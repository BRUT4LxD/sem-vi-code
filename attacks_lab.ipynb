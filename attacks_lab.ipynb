{
 "cells": [
  {
   "cell_type": "code",
   "execution_count": 7,
   "id": "de6d556c",
   "metadata": {},
   "outputs": [],
   "source": [
    "import numpy as np\n",
    "import itertools\n",
    "from architectures.sample_conv import ConvNetMNIST, ConvNetCIFAR\n",
    "from data_eng.dataset_loader import load_MNIST, load_imagenette, load_CIFAR10\n",
    "from torchvision import transforms\n",
    "import torch\n",
    "from data_eng.io import load_model\n",
    "from evaluation.metrics import evaluate_attack, evaluate_model\n",
    "from evaluation.visualization import simple_visualize\n",
    "from constants.model_classes import mnist_classes\n",
    "from attacks.pgd_mn import PGD_MN\n",
    "import datetime\n",
    "from tqdm import tqdm\n",
    "import matplotlib.pyplot as plt\n",
    "\n"
   ]
  },
  {
   "cell_type": "code",
   "execution_count": 8,
   "id": "6976b0f1",
   "metadata": {},
   "outputs": [],
   "source": [
    "# device config\n",
    "device = torch.device('cuda' if torch.cuda.is_available() else 'cpu')\n",
    "\n",
    "MODEL_SAVE_PATH = './models/cnn-mnist.pt'\n",
    "\n",
    "model = load_model(ConvNetMNIST().to(device), MODEL_SAVE_PATH)\n",
    "\n",
    "transform = transforms.Compose([\n",
    "    transforms.ToTensor()\n",
    "])\n",
    "\n",
    "_, test_loader = load_MNIST(transform=transform, batch_size=1)\n"
   ]
  },
  {
   "cell_type": "code",
   "execution_count": 9,
   "id": "62e37ffa",
   "metadata": {},
   "outputs": [
    {
     "name": "stdout",
     "output_type": "stream",
     "text": [
      "tensor(0., device='cuda:0')\n",
      "tensor(1., device='cuda:0')\n"
     ]
    }
   ],
   "source": [
    "cnt = 0\n",
    "\n",
    "for images, labels in test_loader:\n",
    "    images = images.to(device)\n",
    "    print(torch.min(images))\n",
    "    print(torch.max(images))\n",
    "\n",
    "    break"
   ]
  },
  {
   "cell_type": "code",
   "execution_count": 11,
   "id": "b7352dd3",
   "metadata": {},
   "outputs": [
    {
     "ename": "IndexError",
     "evalue": "tuple index out of range",
     "output_type": "error",
     "traceback": [
      "\u001b[1;31m---------------------------------------------------------------------------\u001b[0m",
      "\u001b[1;31mIndexError\u001b[0m                                Traceback (most recent call last)",
      "Cell \u001b[1;32mIn[11], line 11\u001b[0m\n\u001b[0;32m      9\u001b[0m adv_images \u001b[38;5;241m=\u001b[39m atk(images, labels)\n\u001b[0;32m     10\u001b[0m img \u001b[38;5;241m=\u001b[39m adv_images[\u001b[38;5;241m0\u001b[39m][\u001b[38;5;241m0\u001b[39m]\u001b[38;5;241m.\u001b[39mcpu()\u001b[38;5;241m.\u001b[39mdetach()\n\u001b[1;32m---> 11\u001b[0m attack_res \u001b[38;5;241m=\u001b[39m \u001b[43mAttackResult\u001b[49m\u001b[38;5;241;43m.\u001b[39;49m\u001b[43mcreate_from_adv_image\u001b[49m\u001b[43m(\u001b[49m\u001b[43mmodel\u001b[49m\u001b[43m,\u001b[49m\u001b[43m \u001b[49m\u001b[43madv_images\u001b[49m\u001b[43m,\u001b[49m\u001b[43m \u001b[49m\u001b[43mmnist_classes\u001b[49m\u001b[43m)\u001b[49m\n\u001b[0;32m     12\u001b[0m \u001b[38;5;28mprint\u001b[39m(attack_res)\n\u001b[0;32m     13\u001b[0m end \u001b[38;5;241m=\u001b[39m datetime\u001b[38;5;241m.\u001b[39mdatetime\u001b[38;5;241m.\u001b[39mnow()\n",
      "File \u001b[1;32mc:\\Users\\BRUT4LxD\\anaconda3\\envs\\pytorch\\lib\\site-packages\\torch\\utils\\_contextlib.py:115\u001b[0m, in \u001b[0;36mcontext_decorator.<locals>.decorate_context\u001b[1;34m(*args, **kwargs)\u001b[0m\n\u001b[0;32m    112\u001b[0m \u001b[39m@functools\u001b[39m\u001b[39m.\u001b[39mwraps(func)\n\u001b[0;32m    113\u001b[0m \u001b[39mdef\u001b[39;00m \u001b[39mdecorate_context\u001b[39m(\u001b[39m*\u001b[39margs, \u001b[39m*\u001b[39m\u001b[39m*\u001b[39mkwargs):\n\u001b[0;32m    114\u001b[0m     \u001b[39mwith\u001b[39;00m ctx_factory():\n\u001b[1;32m--> 115\u001b[0m         \u001b[39mreturn\u001b[39;00m func(\u001b[39m*\u001b[39margs, \u001b[39m*\u001b[39m\u001b[39m*\u001b[39mkwargs)\n",
      "File \u001b[1;32mc:\\Users\\BRUT4LxD\\OneDrive - Wojskowa Akademia Techniczna\\Pulpit\\Moje\\Uczelnia\\Studia doktoranckie\\SEM VI\\sem-vi-code\\domain\\attack_result.py:22\u001b[0m, in \u001b[0;36mAttackResult.create_from_adv_image\u001b[1;34m(model, adv_image, classes)\u001b[0m\n\u001b[0;32m     20\u001b[0m predicted \u001b[39m=\u001b[39m predicted\u001b[39m.\u001b[39mitem()\n\u001b[0;32m     21\u001b[0m actual \u001b[39m=\u001b[39m torch\u001b[39m.\u001b[39margmax(adv_image)\u001b[39m.\u001b[39mitem()\n\u001b[1;32m---> 22\u001b[0m \u001b[39mprint\u001b[39m(\u001b[39mf\u001b[39m\u001b[39m\"\u001b[39m\u001b[39mActual: \u001b[39m\u001b[39m{\u001b[39;00mclasses[actual]\u001b[39m}\u001b[39;00m\u001b[39m, Predicted: \u001b[39m\u001b[39m{\u001b[39;00mclasses[predicted]\u001b[39m}\u001b[39;00m\u001b[39m\"\u001b[39m)\n\u001b[0;32m     23\u001b[0m \u001b[39mreturn\u001b[39;00m AttackResult(classes[actual], classes[predicted], adv_image)\n",
      "\u001b[1;31mIndexError\u001b[0m: tuple index out of range"
     ]
    }
   ],
   "source": [
    "from attacks.white_box import PGD\n",
    "from domain.attack_result import AttackResult\n",
    "\n",
    "atk = PGD(model, eps=8/255)\n",
    "for images, labels in test_loader:\n",
    "    images = images.to(device)\n",
    "    labels = labels.to(device)\n",
    "    start = datetime.datetime.now()\n",
    "    adv_images = atk(images, labels)\n",
    "    img = adv_images[0][0].cpu().detach()\n",
    "    attack_res = AttackResult.create_from_adv_image(model, adv_images, mnist_classes)\n",
    "    print(attack_res)\n",
    "    end = datetime.datetime.now()\n",
    "    # acc = clean_accuracy(model, adv_images, labels)\n",
    "    print('- Robust Acc: {} ({} ms)'.format(0, int((end-start).total_seconds()*1000)))\n",
    "    break"
   ]
  },
  {
   "cell_type": "code",
   "execution_count": null,
   "id": "81a745e8",
   "metadata": {},
   "outputs": [],
   "source": [
    "att = PGD_MN(model)\n",
    "attack_results = att.forward(test_loader)\n"
   ]
  },
  {
   "cell_type": "code",
   "execution_count": 4,
   "id": "b08fe9c6",
   "metadata": {},
   "outputs": [
    {
     "name": "stdout",
     "output_type": "stream",
     "text": [
      "Accuracy: 89.63, Precision: 91.05, Recall: 89.44, F1: 89.7\n",
      "[[ 881    8    5    4   21    7    7    5   10   19]\n",
      " [   0 1133    0    0    0    0    0    1    0    0]\n",
      " [   2   44  888    8    6    0    1   12   65    0]\n",
      " [   0   35    6  817    2    3    0    0  109   20]\n",
      " [   1   26    3    0  926    0    1    2   12    0]\n",
      " [   2   17    1   18    1  726   11    4   84    6]\n",
      " [   2   28    5    1   39    4  856    0    9    1]\n",
      " [   2   32   15    1    5    0    0  927   14    6]\n",
      " [   3    8    5    0    6    2    3    2  926    3]\n",
      " [   3   10    2    2  121    2    0   26   70  743]]\n"
     ]
    }
   ],
   "source": [
    "\n",
    "attack_eval = evaluate_attack(attack_results, 10)\n",
    "\n",
    "print(attack_eval)\n",
    "print(attack_eval.conf_matrix)"
   ]
  },
  {
   "cell_type": "code",
   "execution_count": null,
   "id": "b21ae858",
   "metadata": {},
   "outputs": [],
   "source": []
  },
  {
   "cell_type": "code",
   "execution_count": null,
   "id": "5425d6ad",
   "metadata": {},
   "outputs": [],
   "source": []
  }
 ],
 "metadata": {
  "kernelspec": {
   "display_name": "Python 3.10.9 ('pytorch')",
   "language": "python",
   "name": "python3"
  },
  "language_info": {
   "codemirror_mode": {
    "name": "ipython",
    "version": 3
   },
   "file_extension": ".py",
   "mimetype": "text/x-python",
   "name": "python",
   "nbconvert_exporter": "python",
   "pygments_lexer": "ipython3",
   "version": "3.10.9"
  },
  "vscode": {
   "interpreter": {
    "hash": "cd697d880e25f9a19415c9beca2cc6c48bd734e4d3b405ba26ef343dcc073325"
   }
  }
 },
 "nbformat": 4,
 "nbformat_minor": 5
}
