{
 "cells": [
  {
   "cell_type": "code",
   "execution_count": 3,
   "id": "de6d556c",
   "metadata": {},
   "outputs": [],
   "source": [
    "import numpy as np\n",
    "import itertools\n",
    "from architectures.sample_conv import ConvNetMNIST, ConvNetCIFAR\n",
    "from data_eng.dataset_loader import load_MNIST, load_imagenette, load_CIFAR10\n",
    "from torchvision import transforms\n",
    "import torch\n",
    "from data_eng.io import load_model\n",
    "from evaluation.metrics import evaluate_attack, evaluate_model\n",
    "from evaluation.visualization import simple_visualize\n",
    "from attacks.pgd_mn import PGD_MN\n",
    "import datetime\n",
    "from tqdm import tqdm\n",
    "\n"
   ]
  },
  {
   "cell_type": "code",
   "execution_count": 4,
   "id": "6976b0f1",
   "metadata": {},
   "outputs": [],
   "source": [
    "# device config\n",
    "device = torch.device('cuda' if torch.cuda.is_available() else 'cpu')\n",
    "\n",
    "MODEL_SAVE_PATH = './models/cnn-mnist.pt'\n",
    "\n",
    "model = load_model(ConvNetMNIST().to(device), MODEL_SAVE_PATH)\n",
    "\n",
    "transform = transforms.Compose([\n",
    "    transforms.ToTensor()\n",
    "])\n",
    "\n",
    "_, test_loader = load_MNIST(transform=transform, batch_size=1)\n"
   ]
  },
  {
   "cell_type": "code",
   "execution_count": 5,
   "id": "62e37ffa",
   "metadata": {},
   "outputs": [
    {
     "name": "stdout",
     "output_type": "stream",
     "text": [
      "tensor(0., device='cuda:0')\n",
      "tensor(1., device='cuda:0')\n"
     ]
    }
   ],
   "source": [
    "cnt = 0\n",
    "\n",
    "for images, labels in test_loader:\n",
    "    images = images.to(device)\n",
    "    print(torch.min(images))\n",
    "    print(torch.max(images))\n",
    "\n",
    "    break"
   ]
  },
  {
   "cell_type": "code",
   "execution_count": 8,
   "id": "b7352dd3",
   "metadata": {},
   "outputs": [
    {
     "name": "stdout",
     "output_type": "stream",
     "text": [
      "torch.Size([1, 1, 28, 28])\n",
      "torch.Size([1, 1, 28, 28])\n",
      "- Robust Acc: 0 (21 ms)\n"
     ]
    }
   ],
   "source": [
    "from attacks.white_box import PGD\n",
    "\n",
    "atk = PGD(model, eps=8/255)\n",
    "for images, labels in test_loader:\n",
    "    images = images.to(device)\n",
    "    labels = labels.to(device)\n",
    "    start = datetime.datetime.now()\n",
    "    adv_images = atk(images, labels)\n",
    "    print(adv_images.shape)\n",
    "    end = datetime.datetime.now()\n",
    "    # acc = clean_accuracy(model, adv_images, labels)\n",
    "    print('- Robust Acc: {} ({} ms)'.format(0, int((end-start).total_seconds()*1000)))\n",
    "    break"
   ]
  },
  {
   "cell_type": "code",
   "execution_count": null,
   "id": "81a745e8",
   "metadata": {},
   "outputs": [],
   "source": [
    "att = PGD_MN(model)\n",
    "attack_results = att.forward(test_loader)\n"
   ]
  },
  {
   "cell_type": "code",
   "execution_count": 4,
   "id": "b08fe9c6",
   "metadata": {},
   "outputs": [
    {
     "name": "stdout",
     "output_type": "stream",
     "text": [
      "Accuracy: 89.63, Precision: 91.05, Recall: 89.44, F1: 89.7\n",
      "[[ 881    8    5    4   21    7    7    5   10   19]\n",
      " [   0 1133    0    0    0    0    0    1    0    0]\n",
      " [   2   44  888    8    6    0    1   12   65    0]\n",
      " [   0   35    6  817    2    3    0    0  109   20]\n",
      " [   1   26    3    0  926    0    1    2   12    0]\n",
      " [   2   17    1   18    1  726   11    4   84    6]\n",
      " [   2   28    5    1   39    4  856    0    9    1]\n",
      " [   2   32   15    1    5    0    0  927   14    6]\n",
      " [   3    8    5    0    6    2    3    2  926    3]\n",
      " [   3   10    2    2  121    2    0   26   70  743]]\n"
     ]
    }
   ],
   "source": [
    "\n",
    "attack_eval = evaluate_attack(attack_results, 10)\n",
    "\n",
    "print(attack_eval)\n",
    "print(attack_eval.conf_matrix)"
   ]
  },
  {
   "cell_type": "code",
   "execution_count": null,
   "id": "b21ae858",
   "metadata": {},
   "outputs": [],
   "source": []
  },
  {
   "cell_type": "code",
   "execution_count": null,
   "id": "5425d6ad",
   "metadata": {},
   "outputs": [],
   "source": []
  }
 ],
 "metadata": {
  "kernelspec": {
   "display_name": "Python 3.10.9 ('pytorch')",
   "language": "python",
   "name": "python3"
  },
  "language_info": {
   "codemirror_mode": {
    "name": "ipython",
    "version": 3
   },
   "file_extension": ".py",
   "mimetype": "text/x-python",
   "name": "python",
   "nbconvert_exporter": "python",
   "pygments_lexer": "ipython3",
   "version": "3.10.9"
  },
  "vscode": {
   "interpreter": {
    "hash": "cd697d880e25f9a19415c9beca2cc6c48bd734e4d3b405ba26ef343dcc073325"
   }
  }
 },
 "nbformat": 4,
 "nbformat_minor": 5
}
