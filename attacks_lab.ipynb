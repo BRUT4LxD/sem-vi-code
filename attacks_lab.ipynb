{
 "cells": [
  {
   "cell_type": "code",
   "execution_count": 1,
   "id": "de6d556c",
   "metadata": {},
   "outputs": [],
   "source": [
    "from architectures.sample_conv import ConvNetMNIST, ConvNetCIFAR\n",
    "from attacks.system_under_attack import multiattack\n",
    "from data_eng.dataset_loader import load_MNIST, load_imagenette, load_CIFAR10\n",
    "import torch\n",
    "from data_eng.io import load_model\n",
    "from evaluation.visualization import plot_attacked_images\n",
    "import matplotlib.pyplot as plt\n",
    "from attacks.white_box import PGD, FGSM, FFGSM, OnePixel, get_all_white_box_attack\n"
   ]
  },
  {
   "cell_type": "code",
   "execution_count": 2,
   "id": "6976b0f1",
   "metadata": {},
   "outputs": [],
   "source": [
    "# prepare config\n",
    "\n",
    "device = torch.device('cuda' if torch.cuda.is_available() else 'cpu')\n",
    "MODEL_SAVE_PATH = './models/cnn-mnist.pt'"
   ]
  },
  {
   "cell_type": "code",
   "execution_count": 3,
   "id": "62e37ffa",
   "metadata": {},
   "outputs": [],
   "source": [
    "# prepare model and data\n",
    "model = load_model(ConvNetMNIST().to(device), MODEL_SAVE_PATH)\n",
    "_, test_loader = load_MNIST(batch_size=1)"
   ]
  },
  {
   "cell_type": "code",
   "execution_count": 4,
   "id": "b7352dd3",
   "metadata": {},
   "outputs": [
    {
     "name": "stdout",
     "output_type": "stream",
     "text": [
      "PROCESSING ATTACKS...\n"
     ]
    },
    {
     "name": "stderr",
     "output_type": "stream",
     "text": [
      "100%|██████████████████████████████████████████████████████████████████████████████████████████████████████████████████████████████████████████████████████████████████| 30/30 [00:06<00:00,  4.87it/s]"
     ]
    },
    {
     "name": "stdout",
     "output_type": "stream",
     "text": [
      "\n",
      "\n",
      "************* RESULTS *************\n",
      "\n",
      "\n",
      "SAMPLES: 1\n",
      "\n",
      "APGD        acc: 0.0%   prec: 0.0%  rec: 0.0%   f1: 0.0%    time: 1604.31ms/img\n",
      "APGDT       acc: 0.0%   prec: 0.0%  rec: 0.0%   f1: 0.0%    time: 2.00ms/img\n",
      "BIM         acc: 0.0%   prec: 0.0%  rec: 0.0%   f1: 0.0%    time: 21.61ms/img\n",
      "CW          acc: 100.0% prec: 10.0% rec: 10.0%  f1: 10.0%   time: 345.96ms/img\n",
      "DeepFool    acc: 0.0%   prec: 0.0%  rec: 0.0%   f1: 0.0%    time: 2.00ms/img\n",
      "DIFGSM      acc: 100.0% prec: 10.0% rec: 10.0%  f1: 10.0%   time: 23.06ms/img\n",
      "EADEN       acc: 0.0%   prec: 0.0%  rec: 0.0%   f1: 0.0%    time: 1412.99ms/img\n",
      "EADL1       acc: 0.0%   prec: 0.0%  rec: 0.0%   f1: 0.0%    time: 774.55ms/img\n",
      "EOTPGD      acc: 100.0% prec: 10.0% rec: 10.0%  f1: 10.0%   time: 33.11ms/img\n",
      "FAB         acc: 100.0% prec: 10.0% rec: 10.0%  f1: 10.0%   time: 237.82ms/img\n",
      "FFGSM       acc: 0.0%   prec: 0.0%  rec: 0.0%   f1: 0.0%    time: 3.00ms/img\n",
      "FGSM        acc: 100.0% prec: 10.0% rec: 10.0%  f1: 10.0%   time: 1.51ms/img\n",
      "GN          acc: 0.0%   prec: 0.0%  rec: 0.0%   f1: 0.0%    time: 0.50ms/img\n",
      "Jitter      acc: 100.0% prec: 10.0% rec: 10.0%  f1: 10.0%   time: 41.63ms/img\n",
      "JSMA        acc: 100.0% prec: 10.0% rec: 10.0%  f1: 10.0%   time: 680.64ms/img\n",
      "MIFGSM      acc: 100.0% prec: 10.0% rec: 10.0%  f1: 10.0%   time: 18.55ms/img\n",
      "NIFGSM      acc: 100.0% prec: 10.0% rec: 10.0%  f1: 10.0%   time: 19.06ms/img\n",
      "OnePixel    acc: 100.0% prec: 10.0% rec: 10.0%  f1: 10.0%   time: 36.61ms/img\n",
      "PGD         acc: 100.0% prec: 10.0% rec: 10.0%  f1: 10.0%   time: 16.62ms/img\n",
      "PGDL2       acc: 100.0% prec: 10.0% rec: 10.0%  f1: 10.0%   time: 19.56ms/img\n",
      "PGDRS       acc: 100.0% prec: 10.0% rec: 10.0%  f1: 10.0%   time: 29.18ms/img\n",
      "PGDRSL2     acc: 100.0% prec: 10.0% rec: 10.0%  f1: 10.0%   time: 23.11ms/img\n",
      "RFGSM       acc: 100.0% prec: 10.0% rec: 10.0%  f1: 10.0%   time: 16.03ms/img\n",
      "SINIFGSM    acc: 100.0% prec: 10.0% rec: 10.0%  f1: 10.0%   time: 91.88ms/img\n",
      "SparseFool  acc: 0.0%   prec: 0.0%  rec: 0.0%   f1: 0.0%    time: 475.38ms/img\n",
      "SPSA        acc: 0.0%   prec: 0.0%  rec: 0.0%   f1: 0.0%    time: 9.02ms/img\n",
      "TPGD        acc: 100.0% prec: 10.0% rec: 10.0%  f1: 10.0%   time: 19.64ms/img\n",
      "UPGD        acc: 100.0% prec: 10.0% rec: 10.0%  f1: 10.0%   time: 20.06ms/img\n",
      "VANILA      acc: 100.0% prec: 10.0% rec: 10.0%  f1: 10.0%   time: 0.50ms/img\n",
      "VMIFGSM     acc: 100.0% prec: 10.0% rec: 10.0%  f1: 10.0%   time: 104.38ms/img\n"
     ]
    },
    {
     "name": "stderr",
     "output_type": "stream",
     "text": [
      "\n"
     ]
    }
   ],
   "source": [
    "# attack \n",
    "multiattack_result = multiattack(\n",
    "    get_all_white_box_attack(model), test_loader, device)\n"
   ]
  },
  {
   "cell_type": "code",
   "execution_count": 5,
   "id": "81a745e8",
   "metadata": {},
   "outputs": [
    {
     "ename": "TypeError",
     "evalue": "'Axes' object is not subscriptable",
     "output_type": "error",
     "traceback": [
      "\u001b[1;31m---------------------------------------------------------------------------\u001b[0m",
      "\u001b[1;31mTypeError\u001b[0m                                 Traceback (most recent call last)",
      "Cell \u001b[1;32mIn[5], line 3\u001b[0m\n\u001b[0;32m      1\u001b[0m \u001b[38;5;66;03m# visualize\u001b[39;00m\n\u001b[1;32m----> 3\u001b[0m \u001b[43mplot_attacked_images\u001b[49m\u001b[43m(\u001b[49m\u001b[43mmultiattack_result\u001b[49m\u001b[38;5;241;43m.\u001b[39;49m\u001b[43mattack_results\u001b[49m\u001b[43m,\u001b[49m\u001b[43m \u001b[49m\u001b[43mmultiattack_result\u001b[49m\u001b[38;5;241;43m.\u001b[39;49m\u001b[43madv_images\u001b[49m\u001b[43m,\u001b[49m\u001b[43m \u001b[49m\u001b[43mmultiattack_result\u001b[49m\u001b[38;5;241;43m.\u001b[39;49m\u001b[43meval_scores\u001b[49m\u001b[43m)\u001b[49m\n",
      "File \u001b[1;32m~\\anaconda3\\envs\\pytorch\\lib\\site-packages\\torch\\utils\\_contextlib.py:115\u001b[0m, in \u001b[0;36mcontext_decorator.<locals>.decorate_context\u001b[1;34m(*args, **kwargs)\u001b[0m\n\u001b[0;32m    112\u001b[0m \u001b[38;5;129m@functools\u001b[39m\u001b[38;5;241m.\u001b[39mwraps(func)\n\u001b[0;32m    113\u001b[0m \u001b[38;5;28;01mdef\u001b[39;00m \u001b[38;5;21mdecorate_context\u001b[39m(\u001b[38;5;241m*\u001b[39margs, \u001b[38;5;241m*\u001b[39m\u001b[38;5;241m*\u001b[39mkwargs):\n\u001b[0;32m    114\u001b[0m     \u001b[38;5;28;01mwith\u001b[39;00m ctx_factory():\n\u001b[1;32m--> 115\u001b[0m         \u001b[38;5;28;01mreturn\u001b[39;00m func(\u001b[38;5;241m*\u001b[39margs, \u001b[38;5;241m*\u001b[39m\u001b[38;5;241m*\u001b[39mkwargs)\n",
      "File \u001b[1;32m~\\OneDrive - Wojskowa Akademia Techniczna\\Pulpit\\Moje\\Uczelnia\\Studia doktoranckie\\SEM VI\\sem-vi-code\\evaluation\\visualization.py:75\u001b[0m, in \u001b[0;36mplot_attacked_images\u001b[1;34m(attack_results, adv_images, eval_scores)\u001b[0m\n\u001b[0;32m     73\u001b[0m \u001b[38;5;28;01mif\u001b[39;00m res\u001b[38;5;241m.\u001b[39mactual \u001b[38;5;241m==\u001b[39m res\u001b[38;5;241m.\u001b[39mpredicted:\n\u001b[0;32m     74\u001b[0m     \u001b[38;5;28;01mcontinue\u001b[39;00m\n\u001b[1;32m---> 75\u001b[0m ax \u001b[38;5;241m=\u001b[39m \u001b[43maxes\u001b[49m\u001b[43m[\u001b[49m\u001b[43mimg_cnt\u001b[49m\u001b[43m]\u001b[49m\n\u001b[0;32m     76\u001b[0m ax\u001b[38;5;241m.\u001b[39mset_xticks([])\n\u001b[0;32m     77\u001b[0m ax\u001b[38;5;241m.\u001b[39mset_yticks([])\n",
      "\u001b[1;31mTypeError\u001b[0m: 'Axes' object is not subscriptable"
     ]
    },
    {
     "data": {
      "image/png": "[encoded data removed]",
      "text/plain": [
       "<Figure size 1500x1000 with 1 Axes>"
      ]
     },
     "metadata": {},
     "output_type": "display_data"
    }
   ],
   "source": [
    "# visualize\n",
    "\n",
    "plot_attacked_images(multiattack_result.attack_results, multiattack_result.adv_images, multiattack_result.eval_scores)"
   ]
  },
  {
   "cell_type": "code",
   "execution_count": 11,
   "id": "b21ae858",
   "metadata": {},
   "outputs": [],
   "source": [
    "import time"
   ]
  },
  {
   "cell_type": "code",
   "execution_count": null,
   "id": "5425d6ad",
   "metadata": {},
   "outputs": [],
   "source": [
    "\n",
    "start = time.time()\n",
    "a = 0\n",
    "for i in range(100000000):\n",
    "    a += 1\n",
    "    \n",
    "end = time.time()\n",
    "\n",
    "print((end-start)*1000)"
   ]
  },
  {
   "cell_type": "code",
   "execution_count": null,
   "id": "58722e38",
   "metadata": {},
   "outputs": [],
   "source": []
  }
 ],
 "metadata": {
  "kernelspec": {
   "display_name": "Python 3 (ipykernel)",
   "language": "python",
   "name": "python3"
  },
  "language_info": {
   "codemirror_mode": {
    "name": "ipython",
    "version": 3
   },
   "file_extension": ".py",
   "mimetype": "text/x-python",
   "name": "python",
   "nbconvert_exporter": "python",
   "pygments_lexer": "ipython3",
   "version": "3.10.9"
  },
  "vscode": {
   "interpreter": {
    "hash": "cd697d880e25f9a19415c9beca2cc6c48bd734e4d3b405ba26ef343dcc073325"
   }
  }
 },
 "nbformat": 4,
 "nbformat_minor": 5
}
