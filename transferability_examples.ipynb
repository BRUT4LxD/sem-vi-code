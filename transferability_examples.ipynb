{
  "cells": [
    {
      "cell_type": "markdown",
      "metadata": {},
      "source": [
        "# Transferability Attack Examples\n",
        "\n",
        "This notebook demonstrates how to use the transferability attack functions with various examples.\n",
        "\n",
        "## Setup\n"
      ]
    },
    {
      "cell_type": "code",
      "execution_count": 3,
      "metadata": {},
      "outputs": [
        {
          "name": "stdout",
          "output_type": "stream",
          "text": [
            "Device: cuda\n"
          ]
        }
      ],
      "source": [
        "import sys\n",
        "import os\n",
        "import torch\n",
        "\n",
        "# Add project root to path\n",
        "sys.path.append('.')\n",
        "\n",
        "from imagenette_lab.imagenette_transferability_attacks import (\n",
        "    imagenette_transferability_model2model_in_memory,\n",
        "    imagenette_transferability_attack2model_in_memory,\n",
        "    run_all_transferability_experiments\n",
        ")\n",
        "from domain.model.model_names import ModelNames\n",
        "from attacks.attack_names import AttackNames\n",
        "\n",
        "# Check device\n",
        "device = torch.device('cuda' if torch.cuda.is_available() else 'cpu')\n",
        "print(f\"Device: {device}\")\n"
      ]
    },
    {
      "cell_type": "markdown",
      "metadata": {},
      "source": [
        "## Example 1: Basic Model-to-Model Transferability\n",
        "\n",
        "Test how well adversarial examples generated on one model transfer to another model.\n"
      ]
    },
    {
      "cell_type": "code",
      "execution_count": 2,
      "metadata": {},
      "outputs": [
        {
          "name": "stdout",
          "output_type": "stream",
          "text": [
            "Testing 2 models with 2 attacks\n",
            "Images per attack: 20\n",
            "🔄 Starting in-memory model-to-model transferability analysis...\n"
          ]
        },
        {
          "name": "stderr",
          "output_type": "stream",
          "text": [
            "Source Models:   0%|          | 0/2 [00:00<?, ?it/s]"
          ]
        },
        {
          "name": "stdout",
          "output_type": "stream",
          "text": [
            "\n",
            "============================================================\n",
            "📥 Loading ImageNette Model: ./models/imagenette/resnet18_advanced.pt\n",
            "============================================================\n",
            "📊 Checkpoint Information:\n",
            "   Model: resnet18\n",
            "   Epoch: 12\n",
            "   Validation Accuracy: 96.97%\n",
            "   Validation Loss: 0.1084\n",
            "🔧 Creating resnet18 model instance...\n",
            "⚙️ Setting up model for ImageNette (10 classes)...\n",
            "Original classifier: fc: Linear(in_features=512, out_features=1000, bias=True)\n",
            "Replaced fc layer: 512 -> 10\n",
            "New classifier: fc: Linear(in_features=512, out_features=10, bias=True)\n",
            "Trainable parameters: 8,398,858 / 11,181,642 (75.1%)\n",
            "📥 Loading trained weights...\n",
            "✅ Model loaded successfully!\n",
            "📈 Training History:\n",
            "   Best Validation Accuracy: 96.97%\n",
            "   Best Epoch: 12\n",
            "   Total Parameters: 11,181,642\n",
            "   Training Time: Unknown\n"
          ]
        },
        {
          "name": "stderr",
          "output_type": "stream",
          "text": []
        },
        {
          "name": "stdout",
          "output_type": "stream",
          "text": [
            "\n",
            "============================================================\n",
            "📥 Loading ImageNette Model: ./models/imagenette/densenet121_advanced.pt\n",
            "============================================================\n",
            "📊 Checkpoint Information:\n",
            "   Model: densenet121\n",
            "   Epoch: 5\n",
            "   Validation Accuracy: 98.47%\n",
            "   Validation Loss: 0.0545\n",
            "🔧 Creating densenet121 model instance...\n",
            "⚙️ Setting up model for ImageNette (10 classes)...\n",
            "Original classifier: classifier: Linear(in_features=1024, out_features=1000, bias=True)\n",
            "Replaced classifier (Linear): 1024 -> 10\n",
            "New classifier: classifier: Linear(in_features=1024, out_features=10, bias=True)\n",
            "Trainable parameters: 2,168,330 / 6,964,106 (31.1%)\n",
            "📥 Loading trained weights...\n",
            "✅ Model loaded successfully!\n",
            "📈 Training History:\n",
            "   Best Validation Accuracy: 98.47%\n",
            "   Best Epoch: 5\n",
            "   Total Parameters: 6,964,106\n",
            "   Training Time: Unknown\n",
            "✅ resnet18 → densenet121 (FGSM): 3/20 (15.00%)\n"
          ]
        },
        {
          "name": "stderr",
          "output_type": "stream",
          "text": []
        },
        {
          "name": "stdout",
          "output_type": "stream",
          "text": [
            "\n",
            "============================================================\n",
            "📥 Loading ImageNette Model: ./models/imagenette/densenet121_advanced.pt\n",
            "============================================================\n",
            "📊 Checkpoint Information:\n",
            "   Model: densenet121\n",
            "   Epoch: 5\n",
            "   Validation Accuracy: 98.47%\n",
            "   Validation Loss: 0.0545\n",
            "🔧 Creating densenet121 model instance...\n"
          ]
        },
        {
          "name": "stderr",
          "output_type": "stream",
          "text": [
            "Source Models:  50%|█████     | 1/2 [00:03<00:03,  3.64s/it]"
          ]
        },
        {
          "name": "stdout",
          "output_type": "stream",
          "text": [
            "⚙️ Setting up model for ImageNette (10 classes)...\n",
            "Original classifier: classifier: Linear(in_features=1024, out_features=1000, bias=True)\n",
            "Replaced classifier (Linear): 1024 -> 10\n",
            "New classifier: classifier: Linear(in_features=1024, out_features=10, bias=True)\n",
            "Trainable parameters: 2,168,330 / 6,964,106 (31.1%)\n",
            "📥 Loading trained weights...\n",
            "✅ Model loaded successfully!\n",
            "📈 Training History:\n",
            "   Best Validation Accuracy: 98.47%\n",
            "   Best Epoch: 5\n",
            "   Total Parameters: 6,964,106\n",
            "   Training Time: Unknown\n",
            "✅ resnet18 → densenet121 (PGD): 6/20 (30.00%)\n",
            "\n",
            "============================================================\n",
            "📥 Loading ImageNette Model: ./models/imagenette/densenet121_advanced.pt\n",
            "============================================================\n",
            "📊 Checkpoint Information:\n",
            "   Model: densenet121\n",
            "   Epoch: 5\n",
            "   Validation Accuracy: 98.47%\n",
            "   Validation Loss: 0.0545\n",
            "🔧 Creating densenet121 model instance...\n",
            "⚙️ Setting up model for ImageNette (10 classes)...\n",
            "Original classifier: classifier: Linear(in_features=1024, out_features=1000, bias=True)\n",
            "Replaced classifier (Linear): 1024 -> 10\n",
            "New classifier: classifier: Linear(in_features=1024, out_features=10, bias=True)\n",
            "Trainable parameters: 2,168,330 / 6,964,106 (31.1%)\n",
            "📥 Loading trained weights...\n",
            "✅ Model loaded successfully!\n",
            "📈 Training History:\n",
            "   Best Validation Accuracy: 98.47%\n",
            "   Best Epoch: 5\n",
            "   Total Parameters: 6,964,106\n",
            "   Training Time: Unknown\n"
          ]
        },
        {
          "name": "stderr",
          "output_type": "stream",
          "text": []
        },
        {
          "name": "stdout",
          "output_type": "stream",
          "text": [
            "\n",
            "============================================================\n",
            "📥 Loading ImageNette Model: ./models/imagenette/resnet18_advanced.pt\n",
            "============================================================\n",
            "📊 Checkpoint Information:\n",
            "   Model: resnet18\n",
            "   Epoch: 12\n",
            "   Validation Accuracy: 96.97%\n",
            "   Validation Loss: 0.1084\n",
            "🔧 Creating resnet18 model instance...\n"
          ]
        },
        {
          "name": "stderr",
          "output_type": "stream",
          "text": []
        },
        {
          "name": "stdout",
          "output_type": "stream",
          "text": [
            "⚙️ Setting up model for ImageNette (10 classes)...\n",
            "Original classifier: fc: Linear(in_features=512, out_features=1000, bias=True)\n",
            "Replaced fc layer: 512 -> 10\n",
            "New classifier: fc: Linear(in_features=512, out_features=10, bias=True)\n",
            "Trainable parameters: 8,398,858 / 11,181,642 (75.1%)\n",
            "📥 Loading trained weights...\n",
            "✅ Model loaded successfully!\n",
            "📈 Training History:\n",
            "   Best Validation Accuracy: 96.97%\n",
            "   Best Epoch: 12\n",
            "   Total Parameters: 11,181,642\n",
            "   Training Time: Unknown\n",
            "✅ densenet121 → resnet18 (FGSM): 2/20 (10.00%)\n",
            "\n",
            "============================================================\n",
            "📥 Loading ImageNette Model: ./models/imagenette/resnet18_advanced.pt\n",
            "============================================================\n",
            "📊 Checkpoint Information:\n",
            "   Model: resnet18\n",
            "   Epoch: 12\n",
            "   Validation Accuracy: 96.97%\n",
            "   Validation Loss: 0.1084\n",
            "🔧 Creating resnet18 model instance...\n"
          ]
        },
        {
          "name": "stderr",
          "output_type": "stream",
          "text": [
            "Source Models: 100%|██████████| 2/2 [00:13<00:00,  6.51s/it]"
          ]
        },
        {
          "name": "stdout",
          "output_type": "stream",
          "text": [
            "⚙️ Setting up model for ImageNette (10 classes)...\n",
            "Original classifier: fc: Linear(in_features=512, out_features=1000, bias=True)\n",
            "Replaced fc layer: 512 -> 10\n",
            "New classifier: fc: Linear(in_features=512, out_features=10, bias=True)\n",
            "Trainable parameters: 8,398,858 / 11,181,642 (75.1%)\n",
            "📥 Loading trained weights...\n",
            "✅ Model loaded successfully!\n",
            "📈 Training History:\n",
            "   Best Validation Accuracy: 96.97%\n",
            "   Best Epoch: 12\n",
            "   Total Parameters: 11,181,642\n",
            "   Training Time: Unknown\n",
            "✅ densenet121 → resnet18 (PGD): 2/20 (10.00%)\n",
            "✅ Results saved to: examples/model2model\\model2model_transferability_in_memory.csv\n",
            "\n",
            "Generated 4 transferability results\n",
            "resnet18 → densenet121 (FGSM): 3/20 (15.0%)\n",
            "resnet18 → densenet121 (PGD): 6/20 (30.0%)\n",
            "densenet121 → resnet18 (FGSM): 2/20 (10.0%)\n",
            "densenet121 → resnet18 (PGD): 2/20 (10.0%)\n"
          ]
        },
        {
          "name": "stderr",
          "output_type": "stream",
          "text": [
            "\n"
          ]
        }
      ],
      "source": [
        "# Example 1: Basic Model-to-Model Transferability\n",
        "model_names = [ModelNames().resnet18, ModelNames().densenet121]\n",
        "attack_names = [AttackNames().FGSM, AttackNames().PGD]\n",
        "images_per_attack = 20\n",
        "results_folder = \"examples/model2model\"\n",
        "\n",
        "print(f\"Testing {len(model_names)} models with {len(attack_names)} attacks\")\n",
        "print(f\"Images per attack: {images_per_attack}\")\n",
        "\n",
        "results = imagenette_transferability_model2model_in_memory(\n",
        "    model_names=model_names,\n",
        "    attack_names=attack_names,\n",
        "    images_per_attack=images_per_attack,\n",
        "    batch_size=2,\n",
        "    results_folder=results_folder\n",
        ")\n",
        "\n",
        "print(f\"\\nGenerated {len(results)} transferability results\")\n",
        "for result in results:\n",
        "    print(f\"{result.source_model} → {result.target_model} ({result.attack_name}): \"\n",
        "          f\"{result.transfer_success}/{result.source_success} ({result.transfer_rate:.1%})\")\n"
      ]
    }
  ],
  "metadata": {
    "kernelspec": {
      "display_name": "venv",
      "language": "python",
      "name": "python3"
    },
    "language_info": {
      "codemirror_mode": {
        "name": "ipython",
        "version": 3
      },
      "file_extension": ".py",
      "mimetype": "text/x-python",
      "name": "python",
      "nbconvert_exporter": "python",
      "pygments_lexer": "ipython3",
      "version": "3.8.16"
    }
  },
  "nbformat": 4,
  "nbformat_minor": 2
}
